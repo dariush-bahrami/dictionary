{
 "cells": [
  {
   "cell_type": "code",
   "execution_count": 1,
   "metadata": {},
   "outputs": [],
   "source": [
    "from bs4 import BeautifulSoup\n",
    "import requests"
   ]
  },
  {
   "cell_type": "code",
   "execution_count": 2,
   "metadata": {},
   "outputs": [],
   "source": [
    "word = 'print'\n",
    "url = f'https://www.ldoceonline.com/dictionary/{word}'"
   ]
  },
  {
   "cell_type": "code",
   "execution_count": 4,
   "metadata": {},
   "outputs": [],
   "source": [
    "response = requests.get(url)"
   ]
  },
  {
   "cell_type": "code",
   "execution_count": 5,
   "metadata": {},
   "outputs": [],
   "source": [
    "soup = BeautifulSoup(response.text, 'html.parser')\n",
    "tail_tags = soup.find_all('span', class_='Tail')\n",
    "for tag in tail_tags:\n",
    "    tag.decompose()"
   ]
  },
  {
   "cell_type": "code",
   "execution_count": 6,
   "metadata": {},
   "outputs": [],
   "source": [
    "definition_tags = soup.find_all('span', class_='dictentry')"
   ]
  },
  {
   "cell_type": "code",
   "execution_count": 7,
   "metadata": {},
   "outputs": [
    {
     "name": "stdout",
     "output_type": "stream",
     "text": [
      "print (verb): to produce words, numbers, or pictures on paper, using a machine which puts ink onto the surface\n",
      "print (verb): when a computer document prints, a printed copy of it is produced\n",
      "print (verb): to produce many printed copies of a book, newspaper etc\n",
      "print (verb): to print a report of something or a letter, speech etc in a newspaper or magazine\n",
      "print (verb): to produce a photograph from a photographic film\n",
      "print (verb): to decorate cloth with a pattern that is put all over its surface by a machine\n",
      "print (verb): to write words by hand without joining the letters\n",
      "print (verb): to make a mark on a surface or in a soft substance by pressing something on to it\n",
      "print (noun): writing that has been printed, for example in books or newspapers\n",
      "print (noun): the letters in which something is printed\n",
      "print (noun): a mark that is made on a surface by something that has been pressed onto it\n",
      "print (noun): cloth, especially cotton, on which a coloured pattern has been printed\n",
      "print (noun): a photograph that has been produced from a film\n",
      "print (noun): a picture that is made by cutting lines onto a piece of metal or wood and then printing it onto paper\n",
      "print (noun): a copy of a painting that is produced by taking a photograph of it and printing it onto paper\n",
      "print (verb): to produce words, numbers, pictures etc on paper, using a machine that puts ink onto the surface\n",
      "print (verb): to produce many copies of a document, newspaper, book etc in printed form\n",
      "print (verb): to put a letter, speech, article etc in a book, newspaper etc\n",
      "print (verb): if a computer prints words on a screen, they appear on the screen\n",
      "print (verb): to write words or letters by hand without joining the letters together, so that they look like the letters in a book\n",
      "print (noun): information and news in books, newspapers etc, rather than in other MEDIA\n",
      "print (noun): if a book is in print, new copies of it are still being printed and it is easily available. If it is out of print, it is no longer being printed\n",
      "print (noun): the details in a legal document, contract etc that many people do not take the time to read, but that may have serious effects\n"
     ]
    }
   ],
   "source": [
    "definition_results = []\n",
    "for tag in definition_tags:\n",
    "\n",
    "    head = tag.find('span', class_='HYPHENATION').strings\n",
    "    head_str = list(head)[0].strip()\n",
    "    \n",
    "    pos = tag.find('span', class_='POS').strings\n",
    "    pos_str = list(pos)[0].strip()\n",
    "\n",
    "    definitions = tag.find_all('span', class_='DEF')\n",
    "    definitions_str = [''.join(list(meaning.strings)) for meaning in definitions]\n",
    "\n",
    "    for meaning in definitions_str:\n",
    "        string = f'{head_str} ({pos_str}): {meaning.strip()}'\n",
    "        definition_results.append(string)\n",
    "\n",
    "    \n",
    "for i  in definition_results:\n",
    "    print(i)"
   ]
  },
  {
   "cell_type": "code",
   "execution_count": 88,
   "metadata": {},
   "outputs": [
    {
     "name": "stdout",
     "output_type": "stream",
     "text": [
      " noun\n"
     ]
    }
   ],
   "source": [
    "for i in def_parts[0].find('span', class_='POS').strings:\n",
    "    print(i)"
   ]
  },
  {
   "cell_type": "code",
   "execution_count": 48,
   "metadata": {},
   "outputs": [
    {
     "data": {
      "text/plain": [
       "'noun'"
      ]
     },
     "execution_count": 48,
     "metadata": {},
     "output_type": "execute_result"
    }
   ],
   "source": [
    "list(def_parts[0].find('span', class_='POS').strings)[0].strip()"
   ]
  },
  {
   "cell_type": "code",
   "execution_count": null,
   "metadata": {},
   "outputs": [],
   "source": []
  }
 ],
 "metadata": {
  "kernelspec": {
   "display_name": "Python 3",
   "language": "python",
   "name": "python3"
  },
  "language_info": {
   "codemirror_mode": {
    "name": "ipython",
    "version": 3
   },
   "file_extension": ".py",
   "mimetype": "text/x-python",
   "name": "python",
   "nbconvert_exporter": "python",
   "pygments_lexer": "ipython3",
   "version": "3.8.3"
  }
 },
 "nbformat": 4,
 "nbformat_minor": 4
}
